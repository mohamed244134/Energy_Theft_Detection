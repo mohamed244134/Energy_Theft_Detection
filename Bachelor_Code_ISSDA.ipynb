{
 "cells": [
  {
   "cell_type": "code",
   "execution_count": 1,
   "metadata": {},
   "outputs": [
    {
     "name": "stderr",
     "output_type": "stream",
     "text": [
      "Using TensorFlow backend.\n"
     ]
    }
   ],
   "source": [
    "import numpy as np\n",
    "import pandas as pd\n",
    "import matplotlib.pyplot as plt\n",
    "import keras"
   ]
  },
  {
   "cell_type": "code",
   "execution_count": 2,
   "metadata": {},
   "outputs": [],
   "source": [
    "columns = ['id','daytime','power']\n",
    "data1 = pd.read_csv('File1.txt',sep = ' ',names = columns)\n",
    "data1['day']=data1['daytime'][:]\n",
    "data1['time'] = data1['daytime'][:]\n",
    "data1['day'] = data1['day']/100\n",
    "data1['day'] = np.int64(data1['day'])\n",
    "data1['time']= data1['time']%100\n",
    "data1['time'] = np.int64(data1['time'])\n",
    "data1=data1.drop(columns= ['daytime'])\n",
    "data1 = data1[(data1.day<200) & (data1.day>=195)]"
   ]
  },
  {
   "cell_type": "code",
   "execution_count": 3,
   "metadata": {},
   "outputs": [
    {
     "data": {
      "text/html": [
       "<div>\n",
       "<style scoped>\n",
       "    .dataframe tbody tr th:only-of-type {\n",
       "        vertical-align: middle;\n",
       "    }\n",
       "\n",
       "    .dataframe tbody tr th {\n",
       "        vertical-align: top;\n",
       "    }\n",
       "\n",
       "    .dataframe thead th {\n",
       "        text-align: right;\n",
       "    }\n",
       "</style>\n",
       "<table border=\"1\" class=\"dataframe\">\n",
       "  <thead>\n",
       "    <tr style=\"text-align: right;\">\n",
       "      <th></th>\n",
       "      <th>id</th>\n",
       "      <th>power</th>\n",
       "      <th>day</th>\n",
       "      <th>time</th>\n",
       "    </tr>\n",
       "  </thead>\n",
       "  <tbody>\n",
       "    <tr>\n",
       "      <td>0</td>\n",
       "      <td>1392</td>\n",
       "      <td>0.140</td>\n",
       "      <td>195</td>\n",
       "      <td>3</td>\n",
       "    </tr>\n",
       "    <tr>\n",
       "      <td>1</td>\n",
       "      <td>1392</td>\n",
       "      <td>0.138</td>\n",
       "      <td>195</td>\n",
       "      <td>4</td>\n",
       "    </tr>\n",
       "    <tr>\n",
       "      <td>2</td>\n",
       "      <td>1392</td>\n",
       "      <td>0.140</td>\n",
       "      <td>195</td>\n",
       "      <td>5</td>\n",
       "    </tr>\n",
       "    <tr>\n",
       "      <td>3</td>\n",
       "      <td>1392</td>\n",
       "      <td>0.145</td>\n",
       "      <td>195</td>\n",
       "      <td>6</td>\n",
       "    </tr>\n",
       "    <tr>\n",
       "      <td>4</td>\n",
       "      <td>1392</td>\n",
       "      <td>0.145</td>\n",
       "      <td>195</td>\n",
       "      <td>7</td>\n",
       "    </tr>\n",
       "    <tr>\n",
       "      <td>...</td>\n",
       "      <td>...</td>\n",
       "      <td>...</td>\n",
       "      <td>...</td>\n",
       "      <td>...</td>\n",
       "    </tr>\n",
       "    <tr>\n",
       "      <td>281803</td>\n",
       "      <td>1703</td>\n",
       "      <td>0.246</td>\n",
       "      <td>199</td>\n",
       "      <td>4</td>\n",
       "    </tr>\n",
       "    <tr>\n",
       "      <td>281804</td>\n",
       "      <td>1703</td>\n",
       "      <td>0.366</td>\n",
       "      <td>199</td>\n",
       "      <td>5</td>\n",
       "    </tr>\n",
       "    <tr>\n",
       "      <td>281805</td>\n",
       "      <td>1703</td>\n",
       "      <td>0.243</td>\n",
       "      <td>199</td>\n",
       "      <td>2</td>\n",
       "    </tr>\n",
       "    <tr>\n",
       "      <td>281806</td>\n",
       "      <td>1703</td>\n",
       "      <td>0.246</td>\n",
       "      <td>199</td>\n",
       "      <td>3</td>\n",
       "    </tr>\n",
       "    <tr>\n",
       "      <td>281807</td>\n",
       "      <td>1703</td>\n",
       "      <td>0.232</td>\n",
       "      <td>199</td>\n",
       "      <td>6</td>\n",
       "    </tr>\n",
       "  </tbody>\n",
       "</table>\n",
       "<p>234864 rows × 4 columns</p>\n",
       "</div>"
      ],
      "text/plain": [
       "          id  power  day  time\n",
       "0       1392  0.140  195     3\n",
       "1       1392  0.138  195     4\n",
       "2       1392  0.140  195     5\n",
       "3       1392  0.145  195     6\n",
       "4       1392  0.145  195     7\n",
       "...      ...    ...  ...   ...\n",
       "281803  1703  0.246  199     4\n",
       "281804  1703  0.366  199     5\n",
       "281805  1703  0.243  199     2\n",
       "281806  1703  0.246  199     3\n",
       "281807  1703  0.232  199     6\n",
       "\n",
       "[234864 rows x 4 columns]"
      ]
     },
     "execution_count": 3,
     "metadata": {},
     "output_type": "execute_result"
    }
   ],
   "source": [
    "data1"
   ]
  },
  {
   "cell_type": "code",
   "execution_count": null,
   "metadata": {},
   "outputs": [],
   "source": []
  }
 ],
 "metadata": {
  "kernelspec": {
   "display_name": "Python 3",
   "language": "python",
   "name": "python3"
  },
  "language_info": {
   "codemirror_mode": {
    "name": "ipython",
    "version": 3
   },
   "file_extension": ".py",
   "mimetype": "text/x-python",
   "name": "python",
   "nbconvert_exporter": "python",
   "pygments_lexer": "ipython3",
   "version": "3.7.4"
  }
 },
 "nbformat": 4,
 "nbformat_minor": 2
}
